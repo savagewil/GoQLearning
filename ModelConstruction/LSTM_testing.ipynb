{
 "cells": [],
 "metadata": {
  "kernelspec": {
   "display_name": "Python 3",
   "language": "python",
   "name": "python3"
  },
  "language_info": {
   "codemirror_mode": {
    "name": "ipython",
    "version": 2
   },
   "file_extension": ".py",
   "mimetype": "text/x-python",
   "name": "python",
   "nbconvert_exporter": "python",
   "pygments_lexer": "ipython2",
   "version": "2.7.6"
  },
  "pycharm": {
   "stem_cell": {
    "cell_type": "raw",
    "source": [
     "from MLLibrary.LSTMNet import LSTMNet\n",
     "from random import choice\n",
     "import numpy\n",
     "\n",
     "\n",
     "LSTM = LSTMNet(1,5,5)\n",
     "\n",
     "inputs = []\n",
     "\n",
     "for i in range(1000):\n",
     "    input = choice([0.0,1.0])\n",
     "    inputs.append(input)\n",
     "\n",
     "    if len(inputs) > 2:\n",
     "        inputs = inputs[-2:]\n",
     "    X = numpy.array([[input]])\n",
     "    Y = inputs[0]\n",
     "    LSTM.set_in(X)\n",
     "    P = LSTM.get_out()\n",
     "    d = numpy.zeros((1,5))\n",
     "    d[0,0] = (Y - P[0,0])/2.0\n",
     "\n",
     "    LSTM.learn(0.001,d)\n",
     "    print(\"Iteration %d \\t%f \\t%f \\t%f \\t%f\"%(i, input, Y, P[0,0], d[0,0]))\n",
     "\n",
     "\n"
    ],
    "metadata": {
     "collapsed": false
    }
   }
  }
 },
 "nbformat": 4,
 "nbformat_minor": 0
}